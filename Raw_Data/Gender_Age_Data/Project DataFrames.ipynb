{
 "cells": [
  {
   "cell_type": "code",
   "execution_count": null,
   "metadata": {},
   "outputs": [],
   "source": [
    "import pandas as pd\n",
    "import numpy as np"
   ]
  },
  {
   "cell_type": "code",
   "execution_count": null,
   "metadata": {},
   "outputs": [],
   "source": [
    "#Storing file path locations\n",
    "#Age\n",
    "age_2017 = \"Age/Profession_Age_2017.xlsx\"\n",
    "age_2016 = \"Age/Profession_Age_2016.xlsx\"\n",
    "age_2015 = \"Age/Profession_Age_2015.xlsx\"\n",
    "age_2014 = \"Age/Profession_Age_2014.xlsx\"\n",
    "age_2013 = \"Age/Profession_Age_2013.xlsx\"\n",
    "age_2012 = \"Age/Profession_Age_2012.xlsx\"\n",
    "age_2011 = \"Age/Profession_Age_2011.xlsx\"\n",
    "#Gender\n",
    "gender_2017 = \"Gender/Profession_Gender_2017.xlsx\"\n",
    "gender_2016 = \"Gender/Profession_Gender_2016.xlsx\"\n",
    "gender_2015 = \"Gender/Profession_Gender_2015.xlsx\"\n",
    "gender_2014 = \"Gender/Profession_Gender_2014.xlsx\"\n",
    "gender_2013 = \"Gender/Profession_Gender_2013.xlsx\"\n",
    "gender_2012 = \"Gender/Profession_Gender_2012.xlsx\"\n",
    "gender_2011 = \"Gender/Profession_Gender_2011.xlsx\"\n",
    "\n"
   ]
  },
  {
   "cell_type": "code",
   "execution_count": null,
   "metadata": {},
   "outputs": [],
   "source": [
    "#Creating Age DataFrames\n",
    "Age_2017_df = pd.read_excel(age_2017)\n",
    "Age_2016_df = pd.read_excel(age_2016)\n",
    "Age_2015_df = pd.read_excel(age_2015)\n",
    "Age_2014_df = pd.read_excel(age_2014)\n",
    "Age_2013_df = pd.read_excel(age_2013)\n",
    "Age_2012_df = pd.read_excel(age_2012)\n",
    "Age_2011_df = pd.read_excel(age_2011)\n",
    "#Creating Gender DataFrames\n",
    "Gender_2017_df = pd.read_excel(gender_2017)\n",
    "Gender_2016_df = pd.read_excel(gender_2016)\n",
    "Gender_2015_df = pd.read_excel(gender_2015)\n",
    "Gender_2014_df = pd.read_excel(gender_2014)\n",
    "Gender_2013_df = pd.read_excel(gender_2013)\n",
    "Gender_2012_df = pd.read_excel(gender_2012)\n",
    "Gender_2011_df = pd.read_excel(gender_2011)"
   ]
  },
  {
   "cell_type": "code",
   "execution_count": null,
   "metadata": {},
   "outputs": [],
   "source": [
    "#test show header\n",
    "#Age_2016_df.head()\n",
    "Gender_2016_df.head()"
   ]
  },
  {
   "cell_type": "code",
   "execution_count": null,
   "metadata": {},
   "outputs": [],
   "source": [
    "#Merging DataFrames by Year\n",
    "Profession_2017_df = pd.merge(Age_2017_df, Gender_2017_df, on=\"Occupation\")\n",
    "Profession_2016_df = pd.merge(Age_2016_df, Gender_2016_df, on=\"Occupation\")\n",
    "Profession_2015_df = pd.merge(Age_2015_df, Gender_2015_df, on=\"Occupation\")\n",
    "Profession_2014_df = pd.merge(Age_2014_df, Gender_2014_df, on=\"Occupation\")\n",
    "Profession_2013_df = pd.merge(Age_2013_df, Gender_2013_df, on=\"Occupation\")\n",
    "Profession_2012_df = pd.merge(Age_2012_df, Gender_2012_df, on=\"Occupation\")\n",
    "Profession_2011_df = pd.merge(Age_2011_df, Gender_2011_df, on=\"Occupation\")"
   ]
  },
  {
   "cell_type": "code",
   "execution_count": null,
   "metadata": {},
   "outputs": [],
   "source": [
    "#Testing DataFrame Merge\n",
    "Profession_2017_df.head()"
   ]
  },
  {
   "cell_type": "code",
   "execution_count": null,
   "metadata": {},
   "outputs": [],
   "source": [
    "#DataMunging\n",
    "Prof_2017 = Profession_2017_df[Profession_2017_df.Industry_x.str.contains(\"NaN\")==False]\n",
    "Prof_2016 = Profession_2017_df[Profession_2016_df.Industry_x.str.contains(\"NaN\")==False]\n",
    "Prof_2015 = Profession_2017_df[Profession_2015_df.Industry_x.str.contains(\"NaN\")==False]\n",
    "Prof_2014 = Profession_2017_df[Profession_2014_df.Industry_x.str.contains(\"NaN\")==False]\n",
    "Prof_2013 = Profession_2017_df[Profession_2013_df.Industry_x.str.contains(\"NaN\")==False]\n",
    "Prof_2012 = Profession_2017_df[Profession_2012_df.Industry_x.str.contains(\"NaN\")==False]\n",
    "Prof_2011 = Profession_2017_df[Profession_2011_df.Industry_x.str.contains(\"NaN\")==False]\n"
   ]
  },
  {
   "cell_type": "code",
   "execution_count": null,
   "metadata": {},
   "outputs": [],
   "source": [
    "#Final Data Munging\n",
    "Clean_Prof_2017 = Prof_2017.replace({'–':'0'}, regex=True)\n",
    "Clean_Prof_2016 = Prof_2016.replace({'-':'0'}, regex=True)\n",
    "Clean_Prof_2015 = Prof_2015.replace({'–':'0'}, regex=True)\n",
    "Clean_Prof_2014 = Prof_2014.replace({'–':'0'}, regex=True)\n",
    "Clean_Prof_2013 = Prof_2013.replace({'-':'0'}, regex=True)\n",
    "Clean_Prof_2012 = Prof_2012.replace({'–':'0'}, regex=True)\n",
    "Clean_Prof_2011 = Prof_2011.replace({'–':'0'}, regex=True)"
   ]
  },
  {
   "cell_type": "code",
   "execution_count": null,
   "metadata": {},
   "outputs": [],
   "source": [
    "#Exporting Dataframe to CSV\n",
    "Clean_Prof_2017.to_csv(\"DataFrames/Profession_Age_Gender_2017.csv\", encoding = 'utf-8', index = False)\n",
    "Clean_Prof_2016.to_csv(\"DataFrames/Profession_Age_Gender_2016.csv\", encoding = 'utf-8', index = False)\n",
    "Clean_Prof_2015.to_csv(\"DataFrames/Profession_Age_Gender_2015.csv\", encoding = 'utf-8', index = False)\n",
    "Clean_Prof_2014.to_csv(\"DataFrames/Profession_Age_Gender_2014.csv\", encoding = 'utf-8', index = False)\n",
    "Clean_Prof_2013.to_csv(\"DataFrames/Profession_Age_Gender_2013.csv\", encoding = 'utf-8', index = False)\n",
    "Clean_Prof_2012.to_csv(\"DataFrames/Profession_Age_Gender_2012.csv\", encoding = 'utf-8', index = False)\n",
    "Clean_Prof_2011.to_csv(\"DataFrames/Profession_Age_Gender_2011.csv\", encoding = 'utf-8', index = False)\n"
   ]
  }
 ],
 "metadata": {
  "kernelspec": {
   "display_name": "Python 3",
   "language": "python",
   "name": "python3"
  },
  "language_info": {
   "codemirror_mode": {
    "name": "ipython",
    "version": 3
   },
   "file_extension": ".py",
   "mimetype": "text/x-python",
   "name": "python",
   "nbconvert_exporter": "python",
   "pygments_lexer": "ipython3",
   "version": "3.5.5"
  }
 },
 "nbformat": 4,
 "nbformat_minor": 2
}
