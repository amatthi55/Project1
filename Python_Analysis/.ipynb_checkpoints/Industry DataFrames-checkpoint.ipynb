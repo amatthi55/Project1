{
 "cells": [
  {
   "cell_type": "code",
   "execution_count": 1,
   "metadata": {},
   "outputs": [],
   "source": [
    "import pandas as pd\n",
    "import numpy as np\n",
    "import matplotlib.pyplot as plt\n",
    "from Gender_Age_DF import Gender_Age_2017\n",
    "from Gender_Age_DF import Gender_Age_2016\n",
    "from Gender_Age_DF import Gender_Age_2015\n",
    "from Gender_Age_DF import Gender_Age_2014\n",
    "from Gender_Age_DF import Gender_Age_2013\n",
    "from Gender_Age_DF import Gender_Age_2012\n",
    "from Gender_Age_DF import Gender_Age_2011"
   ]
  },
  {
   "cell_type": "markdown",
   "metadata": {},
   "source": [
    "# Importing DataFrames from Functions"
   ]
  },
  {
   "cell_type": "code",
   "execution_count": 2,
   "metadata": {},
   "outputs": [],
   "source": [
    "#Creating Global Variables to pull DataFrame into Notebook\n",
    "Gender_Age_2017_DF = Gender_Age_2017()\n",
    "Gender_Age_2016_DF = Gender_Age_2016()\n",
    "Gender_Age_2015_DF = Gender_Age_2015()\n",
    "Gender_Age_2014_DF = Gender_Age_2014()\n",
    "Gender_Age_2013_DF = Gender_Age_2013()\n",
    "Gender_Age_2012_DF = Gender_Age_2012()\n",
    "Gender_Age_2011_DF = Gender_Age_2011()"
   ]
  },
  {
   "cell_type": "code",
   "execution_count": 3,
   "metadata": {},
   "outputs": [],
   "source": [
    "#Segregate DataFrames by Industry by Year"
   ]
  },
  {
   "cell_type": "code",
   "execution_count": 4,
   "metadata": {},
   "outputs": [],
   "source": [
    "#Gender_Age_2017_DF\n",
    "Comp2017 = Gender_Age_2017_DF.loc[(Gender_Age_2017_DF[\"Industry_x\"]==\"Computer and Math\")]\n",
    "Eng2017 = Gender_Age_2017_DF.loc[(Gender_Age_2017_DF[\"Industry_x\"]==\"Engineering\")]\n",
    "Ent2017 = Gender_Age_2017_DF.loc[(Gender_Age_2017_DF[\"Industry_x\"]==\"Entertainmnet\")]\n",
    "HC2017 = Gender_Age_2017_DF.loc[(Gender_Age_2017_DF[\"Industry_x\"]==\"Healthcare\")]\n",
    "Serv2017 = Gender_Age_2017_DF.loc[(Gender_Age_2017_DF[\"Industry_x\"]==\"Service\")]\n",
    "\n",
    "#Gender_Age_2016_DF\n",
    "Comp2016 = Gender_Age_2016_DF.loc[(Gender_Age_2016_DF[\"Industry_x\"]==\"Computer and Math\")]\n",
    "Eng2016= Gender_Age_2016_DF.loc[(Gender_Age_2016_DF[\"Industry_x\"]==\"Engineering\")]\n",
    "Ent2016 = Gender_Age_2016_DF.loc[(Gender_Age_2016_DF[\"Industry_x\"]==\"Entertainmnet\")]\n",
    "HC2016 = Gender_Age_2016_DF.loc[(Gender_Age_2016_DF[\"Industry_x\"]==\"Healthcare\")]\n",
    "Serv2016 = Gender_Age_2016_DF.loc[(Gender_Age_2016_DF[\"Industry_x\"]==\"Service\")]\n",
    "\n",
    "#Gender_Age_2015_DF\n",
    "Comp2015 = Gender_Age_2015_DF.loc[(Gender_Age_2015_DF[\"Industry_x\"]==\"Computer and Math\")]\n",
    "Eng2015 = Gender_Age_2015_DF.loc[(Gender_Age_2015_DF[\"Industry_x\"]==\"Engineering\")]\n",
    "Ent2015 = Gender_Age_2015_DF.loc[(Gender_Age_2015_DF[\"Industry_x\"]==\"Entertainmnet\")]\n",
    "HC2015 = Gender_Age_2015_DF.loc[(Gender_Age_2015_DF[\"Industry_x\"]==\"Healthcare\")]\n",
    "Serv2015 = Gender_Age_2015_DF.loc[(Gender_Age_2015_DF[\"Industry_x\"]==\"Service\")]\n",
    "\n",
    "#Gender_Age_2014_DF\n",
    "Comp2014 = Gender_Age_2014_DF.loc[(Gender_Age_2014_DF[\"Industry_x\"]==\"Computer and Math\")]\n",
    "Eng2014 = Gender_Age_2014_DF.loc[(Gender_Age_2014_DF[\"Industry_x\"]==\"Engineering\")]\n",
    "Ent2014 = Gender_Age_2014_DF.loc[(Gender_Age_2014_DF[\"Industry_x\"]==\"Entertainmnet\")]\n",
    "HC2014 = Gender_Age_2014_DF.loc[(Gender_Age_2014_DF[\"Industry_x\"]==\"Healthcare\")]\n",
    "Serv2014 = Gender_Age_2014_DF.loc[(Gender_Age_2014_DF[\"Industry_x\"]==\"Service\")]\n",
    "\n",
    "#Gender_Age_2013_DF\n",
    "Comp2013 = Gender_Age_2013_DF.loc[(Gender_Age_2013_DF[\"Industry_x\"]==\"Computer and Math\")]\n",
    "Eng2013 = Gender_Age_2013_DF.loc[(Gender_Age_2013_DF[\"Industry_x\"]==\"Engineering\")]\n",
    "Ent2013 = Gender_Age_2013_DF.loc[(Gender_Age_2013_DF[\"Industry_x\"]==\"Entertainmnet\")]\n",
    "HC2013 = Gender_Age_2013_DF.loc[(Gender_Age_2013_DF[\"Industry_x\"]==\"Healthcare\")]\n",
    "Serv2013 = Gender_Age_2013_DF.loc[(Gender_Age_2013_DF[\"Industry_x\"]==\"Service\")]\n",
    "\n",
    "#Gender_Age_2012_DF\n",
    "Comp2012 = Gender_Age_2012_DF.loc[(Gender_Age_2012_DF[\"Industry_x\"]==\"Computer and Math\")]\n",
    "Eng2012 = Gender_Age_2012_DF.loc[(Gender_Age_2012_DF[\"Industry_x\"]==\"Engineering\")]\n",
    "Ent2012 = Gender_Age_2012_DF.loc[(Gender_Age_2012_DF[\"Industry_x\"]==\"Entertainmnet\")]\n",
    "HC2012 = Gender_Age_2012_DF.loc[(Gender_Age_2012_DF[\"Industry_x\"]==\"Healthcare\")]\n",
    "Serv2012 = Gender_Age_2012_DF.loc[(Gender_Age_2012_DF[\"Industry_x\"]==\"Service\")]\n",
    "\n",
    "#Gender_Age_2011_DF\n",
    "Comp2011 = Gender_Age_2011_DF.loc[(Gender_Age_2011_DF[\"Industry_x\"]==\"Computer and Math\")]\n",
    "Eng2011 = Gender_Age_2011_DF.loc[(Gender_Age_2011_DF[\"Industry_x\"]==\"Engineering\")]\n",
    "Ent2011 = Gender_Age_2011_DF.loc[(Gender_Age_2011_DF[\"Industry_x\"]==\"Entertainmnet\")]\n",
    "HC2011 = Gender_Age_2011_DF.loc[(Gender_Age_2011_DF[\"Industry_x\"]==\"Healthcare\")]\n",
    "Serv2011 = Gender_Age_2011_DF.loc[(Gender_Age_2011_DF[\"Industry_x\"]==\"Service\")]"
   ]
  },
  {
   "cell_type": "code",
   "execution_count": 5,
   "metadata": {},
   "outputs": [],
   "source": [
    "#Line Graph for Total # of Workers by Industry per Year\n",
    "#Storing total employee values\n",
    "\n",
    "year = [2011, 2012, 2013, 2014, 2015, 2016, 2017]\n",
    "\n",
    "\n",
    "#HealtheCare Total\n",
    "HCTotal2017 = HC2017['Total Number of workers'].sum()\n",
    "HCTotal2016 = HC2016['Total Number of workers'].sum()\n",
    "HCTotal2015 = HC2015['Total Number of workers'].sum()\n",
    "HCTotal2014 = HC2014['Total Number of workers'].sum()\n",
    "HCTotal2013 = HC2013['Total Number of workers'].sum()\n",
    "HCTotal2012 = HC2012['Total Number of workers'].sum()\n",
    "HCTotal2011 = HC2011['Total Number of workers'].sum()\n",
    "\n",
    "#Entertainment Total\n",
    "EntTotal2017 = Ent2017['Total Number of workers'].sum()\n",
    "EntTotal2016 = Ent2016['Total Number of workers'].sum()\n",
    "EntTotal2015 = Ent2015['Total Number of workers'].sum()\n",
    "EntTotal2014 = Ent2014['Total Number of workers'].sum()\n",
    "EntTotal2013 = Ent2013['Total Number of workers'].sum()\n",
    "EntTotal2012 = Ent2012['Total Number of workers'].sum()\n",
    "EntTotal2011 = Ent2011['Total Number of workers'].sum()\n",
    "\n",
    "#Service Total\n",
    "ServTotal2017 = Serv2017['Total Number of workers'].sum()\n",
    "ServTotal2016 = Serv2016['Total Number of workers'].sum()\n",
    "ServTotal2015 = Serv2015['Total Number of workers'].sum()\n",
    "ServTotal2014 = Serv2014['Total Number of workers'].sum()\n",
    "ServTotal2013 = Serv2013['Total Number of workers'].sum()\n",
    "ServTotal2012 = Serv2012['Total Number of workers'].sum()\n",
    "ServTotal2011 = Serv2011['Total Number of workers'].sum()\n",
    "\n",
    "#Computer & Math Total\n",
    "Comptotal2017 = Comp2017['Total Number of workers'].sum()\n",
    "Comptotal2016 = Comp2016['Total Number of workers'].sum()\n",
    "Comptotal2015 = Comp2015['Total Number of workers'].sum()\n",
    "Comptotal2014 = Comp2014['Total Number of workers'].sum()\n",
    "Comptotal2013 = Comp2013['Total Number of workers'].sum()\n",
    "Comptotal2012 = Comp2012['Total Number of workers'].sum()\n",
    "Comptotal2011 = Comp2011['Total Number of workers'].sum()\n",
    "\n",
    "#Engineering Total\n",
    "Engtotal2017 = Eng2017['Total Number of workers'].sum()\n",
    "Engtotal2016 = Eng2016['Total Number of workers'].sum()\n",
    "Engtotal2015 = Eng2015['Total Number of workers'].sum()\n",
    "Engtotal2014 = Eng2014['Total Number of workers'].sum()\n",
    "Engtotal2013 = Eng2013['Total Number of workers'].sum()\n",
    "Engtotal2012 = Eng2012['Total Number of workers'].sum()\n",
    "Engtotal2011 = Eng2011['Total Number of workers'].sum()\n",
    "\n",
    "\n",
    "HC= [HCTotal2011, HCTotal2012, HCTotal2013, HCTotal2014, HCTotal2015, HCTotal2016, HCTotal2017]\n",
    "Comp= [Comptotal2011, Comptotal2012, Comptotal2013, Comptotal2014, Comptotal2015, Comptotal2016, Comptotal2017]\n",
    "Eng= [Engtotal2011, Engtotal2012, Engtotal2013, Engtotal2014, Engtotal2015, Engtotal2016, Engtotal2017]\n",
    "Serv= [ServTotal2011, ServTotal2012, ServTotal2013, ServTotal2014, ServTotal2015, ServTotal2016, ServTotal2017]\n",
    "Ent= [EntTotal2011, EntTotal2012, EntTotal2013, EntTotal2014, EntTotal2015, EntTotal2016, EntTotal2017]\n",
    "\n"
   ]
  },
  {
   "cell_type": "code",
   "execution_count": 6,
   "metadata": {},
   "outputs": [
    {
     "data": {
      "image/png": "[encoded data removed]",
      "text/plain": [
       "<Figure size 432x288 with 1 Axes>"
      ]
     },
     "metadata": {},
     "output_type": "display_data"
    }
   ],
   "source": [
    "#assinging values to line graph\n",
    "plt.plot(year, HC, color='blue', label=\"Healthcare\")\n",
    "plt.plot(year, Comp, color='red', label=\"Computer & Math\")\n",
    "plt.plot(year, Eng, color='green', label=\"Engineering\")\n",
    "plt.plot(year, Serv, color='yellow', label=\"Service\")\n",
    "plt.plot(year, Ent, color='purple', label=\"Entertainment\")\n",
    "\n",
    "plt.title(\"Total Employees per Industry by Year\")\n",
    "plt.xlabel(\"Year\")\n",
    "plt.ylabel(\"Toal Employees\") \n",
    "plt.legend(loc=\"center left\", bbox_to_anchor=(1, 0.5))\n",
    "plt.savefig(\"Industry Analysis_Total Employees\")"
   ]
  },
  {
   "cell_type": "markdown",
   "metadata": {},
   "source": [
    "# Avg Weekly by Year by Industry"
   ]
  },
  {
   "cell_type": "code",
   "execution_count": 7,
   "metadata": {},
   "outputs": [],
   "source": [
    "#HealtheCare Avg Weekly Income\n",
    "HCinc2017 = HC2017['Total Median weekly earnings'].mean()\n",
    "HCinc2016 = HC2016['Total Median weekly earnings'].mean()\n",
    "HCinc2015 = HC2015['Total Median weekly earnings'].mean()\n",
    "HCinc2014 = HC2014['Total Median weekly earnings'].mean()\n",
    "HCinc2013 = HC2013['Total Median weekly earnings'].mean()\n",
    "HCinc2012 = HC2012['Total Median weekly earnings'].mean()\n",
    "HCinc2011 = HC2011['Total Median weekly earnings'].mean()\n",
    "\n",
    "#Entertainment Total\n",
    "Entinc2017 = Ent2017['Total Median weekly earnings'].mean()\n",
    "Entinc2016 = Ent2016['Total Median weekly earnings'].mean()\n",
    "Entinc2015 = Ent2015['Total Median weekly earnings'].mean()\n",
    "Entinc2014 = Ent2014['Total Median weekly earnings'].mean()\n",
    "Entinc2013 = Ent2013['Total Median weekly earnings'].mean()\n",
    "Entinc2012 = Ent2012['Total Median weekly earnings'].mean()\n",
    "Entinc2011 = Ent2011['Total Median weekly earnings'].mean()\n",
    "\n",
    "#Service Total\n",
    "Servinc2017 = Serv2017['Total Median weekly earnings'].mean()\n",
    "Servinc2016 = Serv2016['Total Median weekly earnings'].mean()\n",
    "Servinc2015 = Serv2015['Total Median weekly earnings'].mean()\n",
    "Servinc2014 = Serv2014['Total Median weekly earnings'].mean()\n",
    "Servinc2013 = Serv2013['Total Median weekly earnings'].mean()\n",
    "Servinc2012 = Serv2012['Total Median weekly earnings'].mean()\n",
    "Servinc2011 = Serv2011['Total Median weekly earnings'].mean()\n",
    "\n",
    "#Computer & Math Total\n",
    "Compinc2017 = Comp2017['Total Median weekly earnings'].mean()\n",
    "Compinc2016 = Comp2016['Total Median weekly earnings'].mean()\n",
    "Compinc2015 = Comp2015['Total Median weekly earnings'].mean()\n",
    "Compinc2014 = Comp2014['Total Median weekly earnings'].mean()\n",
    "Compinc2013 = Comp2013['Total Median weekly earnings'].mean()\n",
    "Compinc2012 = Comp2012['Total Median weekly earnings'].mean()\n",
    "Compinc2011 = Comp2011['Total Median weekly earnings'].mean()\n",
    "\n",
    "#Engineering Total\n",
    "Enginc2017 = Eng2017['Total Median weekly earnings'].mean()\n",
    "Enginc2016 = Eng2016['Total Median weekly earnings'].mean()\n",
    "Enginc2015 = Eng2015['Total Median weekly earnings'].mean()\n",
    "Enginc2014 = Eng2014['Total Median weekly earnings'].mean()\n",
    "Enginc2013 = Eng2013['Total Median weekly earnings'].mean()\n",
    "Enginc2012 = Eng2012['Total Median weekly earnings'].mean()\n",
    "Enginc2011 = Eng2011['Total Median weekly earnings'].mean()\n",
    "\n",
    "HCinc =[HCinc2011, HCinc2012, HCinc2013, HCinc2014, HCinc2015, HCinc2016, HCinc2017]\n",
    "Entinc =[Entinc2011, Entinc2012, Entinc2013, Entinc2014, Entinc2015, Entinc2016, Entinc2017]\n",
    "Servinc = [Servinc2011, Servinc2012, Servinc2013, Servinc2014, Servinc2015, Servinc2016, Servinc2017]\n",
    "Compinc = [Compinc2011, Compinc2012, Compinc2013, Compinc2014, Compinc2015, Compinc2016, Compinc2017]\n",
    "Enginc =[Enginc2011, Enginc2012, Enginc2013, Enginc2014, Enginc2015, Enginc2016, Enginc2017]\n"
   ]
  },
  {
   "cell_type": "code",
   "execution_count": 40,
   "metadata": {},
   "outputs": [
    {
     "data": {
      "image/png": "[encoded data removed]",
      "text/plain": [
       "<Figure size 432x288 with 1 Axes>"
      ]
     },
     "metadata": {},
     "output_type": "display_data"
    },
    {
     "data": {
      "text/plain": [
       "<Figure size 432x288 with 0 Axes>"
      ]
     },
     "metadata": {},
     "output_type": "display_data"
    }
   ],
   "source": [
    "#building the bar graph\n",
    "ind = np.arange(len(year))\n",
    "width = 0.1\n",
    "fig, ax = plt.subplots()\n",
    "HCB = ax.bar(ind + width, HCinc, width, color='SkyBlue', label = 'HealthCare')\n",
    "EntB = ax.bar(ind + width + width, Entinc, width, color='IndianRed', label = 'Entertainment')\n",
    "ServB = ax.bar(ind + width + width + width , Servinc, width, color='forestgreen', label = 'Service')\n",
    "CompB = ax.bar(ind + width + width + width + width, Compinc, width, color='purple', label = 'Computer and Math')\n",
    "EngB = ax.bar(ind + width + width + width + width + width, Enginc, width, color='orangered', label = 'Engineering')\n",
    "\n",
    "#Adding text, title, and custom x-axis tick labels\n",
    "ax.set_ylabel('Avg Weekly Income')\n",
    "ax.set_title('Avg Weekly Income by Industry')\n",
    "ax.set_xticks(ind + .3)\n",
    "ax.set_xticklabels(('2011','2012','2013','2014','2015','2016','2017'))\n",
    "plt.legend(loc=\"center left\", bbox_to_anchor=(1, 0.5))\n",
    "plt.show()\n",
    "plt.savefig(\"Avg Weekly Income by Industry\")"
   ]
  }
 ],
 "metadata": {
  "kernelspec": {
   "display_name": "Python 3",
   "language": "python",
   "name": "python3"
  },
  "language_info": {
   "codemirror_mode": {
    "name": "ipython",
    "version": 3
   },
   "file_extension": ".py",
   "mimetype": "text/x-python",
   "name": "python",
   "nbconvert_exporter": "python",
   "pygments_lexer": "ipython3",
   "version": "3.5.5"
  }
 },
 "nbformat": 4,
 "nbformat_minor": 2
}
