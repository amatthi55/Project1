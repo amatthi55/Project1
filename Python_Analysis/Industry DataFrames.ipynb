{
 "cells": [
  {
   "cell_type": "code",
   "execution_count": 1,
   "metadata": {},
   "outputs": [],
   "source": [
    "import pandas as pd\n",
    "import numpy as np\n",
    "import matplotlib.pyplot as plt\n",
    "from Gender_Age_DF import Gender_Age_2017\n",
    "from Gender_Age_DF import Gender_Age_2016\n",
    "from Gender_Age_DF import Gender_Age_2015\n",
    "from Gender_Age_DF import Gender_Age_2014\n",
    "from Gender_Age_DF import Gender_Age_2013\n",
    "from Gender_Age_DF import Gender_Age_2012\n",
    "from Gender_Age_DF import Gender_Age_2011"
   ]
  },
  {
   "cell_type": "markdown",
   "metadata": {},
   "source": [
    "# Importing DataFrames from Functions"
   ]
  },
  {
   "cell_type": "code",
   "execution_count": 5,
   "metadata": {},
   "outputs": [],
   "source": [
    "#Creating Global Variables to pull DataFrame into Notebook\n",
    "Gender_Age_2017_DF = Gender_Age_2017()\n",
    "Gender_Age_2016_DF = Gender_Age_2016()\n",
    "Gender_Age_2015_DF = Gender_Age_2015()\n",
    "Gender_Age_2014_DF = Gender_Age_2014()\n",
    "Gender_Age_2013_DF = Gender_Age_2013()\n",
    "Gender_Age_2012_DF = Gender_Age_2012()\n",
    "Gender_Age_2011_DF = Gender_Age_2011()"
   ]
  },
  {
   "cell_type": "code",
   "execution_count": null,
   "metadata": {},
   "outputs": [],
   "source": [
    "#Segregate DataFrames by Industry by Year"
   ]
  },
  {
   "cell_type": "code",
   "execution_count": 4,
   "metadata": {},
   "outputs": [],
   "source": [
    "#Gender_Age_2017_DF\n",
    "Comp2017 = Gender_Age_2017_DF.loc[(Gender_Age_2017_DF[\"Industry_x\"]==\"Computer and Math\")]\n",
    "Eng2017 = Gender_Age_2017_DF.loc[(Gender_Age_2017_DF[\"Industry_x\"]==\"Engineering\")]\n",
    "Ent2017 = Gender_Age_2017_DF.loc[(Gender_Age_2017_DF[\"Industry_x\"]==\"Entertainment\")]\n",
    "HC2017 = Gender_Age_2017_DF.loc[(Gender_Age_2017_DF[\"Industry_x\"]==\"Healthcare\")]\n",
    "Serv2017 = Gender_Age_2017_DF.loc[(Gender_Age_2017_DF[\"Industry_x\"]==\"Service\")]\n",
    "\n",
    "#Gender_Age_2016_DF\n",
    "Comp2016 = Gender_Age_2016_DF.loc[(Gender_Age_2016_DF[\"Industry_x\"]==\"Computer and Math\")]\n",
    "Eng2016= Gender_Age_2016_DF.loc[(Gender_Age_2016_DF[\"Industry_x\"]==\"Engineering\")]\n",
    "Ent2016 = Gender_Age_2016_DF.loc[(Gender_Age_2016_DF[\"Industry_x\"]==\"Entertainment\")]\n",
    "HC2016 = Gender_Age_2016_DF.loc[(Gender_Age_2016_DF[\"Industry_x\"]==\"Healthcare\")]\n",
    "Serv2016 = Gender_Age_2016_DF.loc[(Gender_Age_2016_DF[\"Industry_x\"]==\"Service\")]\n",
    "\n",
    "#Gender_Age_2015_DF\n",
    "Comp2015 = Gender_Age_2015_DF.loc[(Gender_Age_2015_DF[\"Industry_x\"]==\"Computer and Math\")]\n",
    "Eng2015 = Gender_Age_2015_DF.loc[(Gender_Age_2015_DF[\"Industry_x\"]==\"Engineering\")]\n",
    "Ent2015 = Gender_Age_2015_DF.loc[(Gender_Age_2015_DF[\"Industry_x\"]==\"Entertainment\")]\n",
    "HC2015 = Gender_Age_2015_DF.loc[(Gender_Age_2015_DF[\"Industry_x\"]==\"Healthcare\")]\n",
    "Serv2015 = Gender_Age_2015_DF.loc[(Gender_Age_2015_DF[\"Industry_x\"]==\"Service\")]\n",
    "\n",
    "#Gender_Age_2014_DF\n",
    "Comp2014 = Gender_Age_2014_DF.loc[(Gender_Age_2014_DF[\"Industry_x\"]==\"Computer and Math\")]\n",
    "Eng2014 = Gender_Age_2014_DF.loc[(Gender_Age_2014_DF[\"Industry_x\"]==\"Engineering\")]\n",
    "Ent2014 = Gender_Age_2014_DF.loc[(Gender_Age_2014_DF[\"Industry_x\"]==\"Entertainment\")]\n",
    "HC2014 = Gender_Age_2014_DF.loc[(Gender_Age_2014_DF[\"Industry_x\"]==\"Healthcare\")]\n",
    "Serv2014 = Gender_Age_2014_DF.loc[(Gender_Age_2014_DF[\"Industry_x\"]==\"Service\")]\n",
    "\n",
    "#Gender_Age_2013_DF\n",
    "Comp2013 = Gender_Age_2013_DF.loc[(Gender_Age_2013_DF[\"Industry_x\"]==\"Computer and Math\")]\n",
    "Eng2013 = Gender_Age_2013_DF.loc[(Gender_Age_2013_DF[\"Industry_x\"]==\"Engineering\")]\n",
    "Ent2013 = Gender_Age_2013_DF.loc[(Gender_Age_2013_DF[\"Industry_x\"]==\"Entertainment\")]\n",
    "HC2013 = Gender_Age_2013_DF.loc[(Gender_Age_2013_DF[\"Industry_x\"]==\"Healthcare\")]\n",
    "Serv2013 = Gender_Age_2013_DF.loc[(Gender_Age_2013_DF[\"Industry_x\"]==\"Service\")]\n",
    "\n",
    "#Gender_Age_2012_DF\n",
    "Comp2012 = Gender_Age_2012_DF.loc[(Gender_Age_2012_DF[\"Industry_x\"]==\"Computer and Math\")]\n",
    "Eng2012 = Gender_Age_2012_DF.loc[(Gender_Age_2012_DF[\"Industry_x\"]==\"Engineering\")]\n",
    "Ent2012 = Gender_Age_2012_DF.loc[(Gender_Age_2012_DF[\"Industry_x\"]==\"Entertainment\")]\n",
    "HC2012 = Gender_Age_2012_DF.loc[(Gender_Age_2012_DF[\"Industry_x\"]==\"Healthcare\")]\n",
    "Serv2012 = Gender_Age_2012_DF.loc[(Gender_Age_2012_DF[\"Industry_x\"]==\"Service\")]\n",
    "\n",
    "#Gender_Age_2011_DF\n",
    "Comp2011 = Gender_Age_2011_DF.loc[(Gender_Age_2011_DF[\"Industry_x\"]==\"Computer and Math\")]\n",
    "Eng2011 = Gender_Age_2011_DF.loc[(Gender_Age_2011_DF[\"Industry_x\"]==\"Engineering\")]\n",
    "Ent2011 = Gender_Age_2011_DF.loc[(Gender_Age_2011_DF[\"Industry_x\"]==\"Entertainment\")]\n",
    "HC2011 = Gender_Age_2011_DF.loc[(Gender_Age_2011_DF[\"Industry_x\"]==\"Healthcare\")]\n",
    "Serv2011 = Gender_Age_2011_DF.loc[(Gender_Age_2011_DF[\"Industry_x\"]==\"Service\")]"
   ]
  },
  {
   "cell_type": "code",
   "execution_count": null,
   "metadata": {},
   "outputs": [],
   "source": []
  }
 ],
 "metadata": {
  "language_info": {
   "codemirror_mode": {
    "name": "ipython",
    "version": 3
   },
   "file_extension": ".py",
   "mimetype": "text/x-python",
   "name": "python",
   "nbconvert_exporter": "python",
   "pygments_lexer": "ipython3",
   "version": "3.5.5"
  }
 },
 "nbformat": 4,
 "nbformat_minor": 2
}
